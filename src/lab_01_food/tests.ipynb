{
 "cells": [
  {
   "metadata": {},
   "cell_type": "markdown",
   "source": [
    "### **Lab 1: Food Class Checklist**\n",
    "\n",
    "---\n",
    "\n",
    "#### **`Food` Class (`Food.py`)**\n",
    "\n",
    "-   [ ] Complete the `origins` static method.\n",
    "-   [ ] Complete the `__str__` method to format the food's data as a string.\n",
    "\n",
    "---\n",
    "\n",
    "#### **`Food_utilities` Module**\n",
    "\n",
    "-   [ ] **Reading Functions:**\n",
    "    -   [ ] Complete the `get_food` function.\n",
    "    -   [ ] Complete the `read_food` function.\n",
    "    -   [ ] Complete the `read_foods` function.\n",
    "        -   *Test this by reading all food items from the `foods.txt` file into a list.*\n",
    "\n",
    "-   [ ] **Writing Functions:**\n",
    "    -   [ ] Complete the `write_foods` function.\n",
    "        -   *Test this by writing the list from the previous step to a new file named `new_foods.txt`.*\n",
    "        -   *Verify the format of `new_foods.txt` matches the original `foods.txt`.*\n",
    "\n",
    "-   [ ] **Filtering Functions:**\n",
    "    -   [ ] Complete the `get_vegetarian` function.\n",
    "        -   *Test this by selecting and printing only the vegetarian foods from the list you read from `foods.txt`.*"
   ],
   "id": "b0911ccf48fef674"
  }
 ],
 "metadata": {
  "kernelspec": {
   "display_name": "Python 3",
   "language": "python",
   "name": "python3"
  },
  "language_info": {
   "codemirror_mode": {
    "name": "ipython",
    "version": 2
   },
   "file_extension": ".py",
   "mimetype": "text/x-python",
   "name": "python",
   "nbconvert_exporter": "python",
   "pygments_lexer": "ipython2",
   "version": "2.7.6"
  }
 },
 "nbformat": 4,
 "nbformat_minor": 5
}
