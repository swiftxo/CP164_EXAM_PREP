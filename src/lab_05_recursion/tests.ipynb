{
 "cells": [
  {
   "metadata": {},
   "cell_type": "markdown",
   "source": [
    "### **Lab 5: Recursion Checklist**\n",
    "\n",
    "---\n",
    "\n",
    "\n",
    "\n",
    "### **Recursive Functions**\n",
    "\n",
    "1.  **Tree Recursion Example**\n",
    "    -   [ ] **Implement `recurse(x, y)`** in `functions.py` with the following rules:\n",
    "        -   If `x < 0` or `y < 0`, the function returns `x - y`.\n",
    "        -   Otherwise, it returns `recurse(x-1, y) + recurse(x, y-1)`.\n",
    "    -   [ ] **Test `recurse`** from a separate file.\n",
    "\n",
    "2.  **Greatest Common Divisor (GCD)**\n",
    "    -   [ ] **Implement `gcd(m, n)`** in `functions.py` with the following rules:\n",
    "        -   If `m % n == 0`, the function returns `n`.\n",
    "        -   Otherwise, it returns `gcd(n, m % n)`.\n",
    "    -   [ ] **Test `gcd`** from a separate file.\n",
    "\n",
    "3.  **Vowel Count**\n",
    "    -   [ ] **Implement `vowel_count(s)`** in `functions.py` as a recursive version of the provided iterative code.\n",
    "    -   [ ] **Test `vowel_count`** from a separate file.\n",
    "\n",
    "4.  **Power Function**\n",
    "    -   [ ] **Implement `to_power(base, power)`** in `functions.py` to recursively calculate `base` to the power of `power`.\n",
    "        -   It must work with both positive and negative integer powers.\n",
    "    -   [ ] **Test `to_power`** from a separate file.\n",
    "\n",
    "5.  **Palindrome Check**\n",
    "    -   [ ] **Implement `is_palindrome(s)`** in `functions.py` to recursively check if a string is a palindrome.\n",
    "        -   The function must ignore case.\n",
    "        -   The function must ignore any non-alphabetic characters (e.g., spaces, punctuation).\n",
    "    -   [ ] **Test `is_palindrome`** from a separate file.\n",
    "\n",
    "6.  **Bag to Set Conversion**\n",
    "    -   [ ] **Implement `bag_to_set(bag)`** in `functions.py` to convert a list into a new list containing only the unique elements from the original.\n",
    "        -   The order of the first appearance of each element must be preserved.\n",
    "        -   Example: `[4, 5, 3, 4, 5, 2, 2, 4]` should return `[4, 5, 3, 2]`.\n",
    "    -   [ ] **Test `bag_to_set`** from a separate file."
   ],
   "id": "12e377f9b4357702"
  }
 ],
 "metadata": {
  "kernelspec": {
   "display_name": "Python 3",
   "language": "python",
   "name": "python3"
  },
  "language_info": {
   "codemirror_mode": {
    "name": "ipython",
    "version": 2
   },
   "file_extension": ".py",
   "mimetype": "text/x-python",
   "name": "python",
   "nbconvert_exporter": "python",
   "pygments_lexer": "ipython2",
   "version": "2.7.6"
  }
 },
 "nbformat": 4,
 "nbformat_minor": 5
}
