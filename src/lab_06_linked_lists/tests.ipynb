{
 "cells": [
  {
   "metadata": {},
   "cell_type": "markdown",
   "source": [
    "### **Lab 6: Linked List Checklist**\n",
    "\n",
    "---\n",
    "\n",
    "### **Setup**\n",
    "-   [ ] **Testing Strategy**: Prepare to test all implemented methods using both integer data and `Food` object data. You can reuse and adapt the testing scripts from the array-based List lab.\n",
    "\n",
    "---\n",
    "\n",
    "### **`List_linked.py` Method Implementation**\n",
    "\n",
    "-   [ ] **Modification Methods (Adding Data)**\n",
    "    -   [ ] `prepend(value)`\n",
    "    -   [ ] `append(value)`\n",
    "    -   [ ] `insert(i, value)`\n",
    "        -   *Hint: `prepend` and `append` are simpler to implement first. You can call them from within `insert` where appropriate to simplify your code.*\n",
    "\n",
    "-   [ ] **Private Helper Methods**\n",
    "    -   [ ] `_linear_search(key)`\n",
    "        -   *Hint: This private helper is crucial for many other methods. Note its return values (`previous`, `current`, `index`) are different from the array-based version to accommodate the needs of a linked structure.*\n",
    "\n",
    "-   [ ] **Search and Query Methods**\n",
    "    -   [ ] `count(key)`\n",
    "    -   [ ] `max()`\n",
    "    -   [ ] `min()`\n",
    "\n",
    "-   [ ] **Find and Index Methods**\n",
    "    -   [ ] `find(key)`\n",
    "    -   [ ] `index(key)`\n",
    "    -   [ ] `__contains__(key)`\n",
    "\n",
    "-   [ ] **Modification Methods (Accessing & Removing Data)**\n",
    "    -   [ ] `peek()`\n",
    "    -   [ ] `remove(key)`\n",
    "        -   *Hint: This method will heavily rely on the multiple return values from your `_linear_search` helper method.*\n",
    "\n",
    "-   [ ] **Magic Methods for Indexing**\n",
    "    -   [ ] `__getitem__(i)` (to support `value = list[i]`)\n",
    "    -   [ ] `__setitem__(i, value)` (to support `list[i] = value`)\n",
    "\n",
    "---\n",
    "\n",
    "### **Testing `List_linked.py`**\n",
    "\n",
    "-   [ ] **Comprehensive Testing**: After implementing all methods, run your complete test suite to ensure the entire `List_linked` class functions correctly with both simple (integer) and complex (`Food`) data types."
   ],
   "id": "b0911ccf48fef674"
  }
 ],
 "metadata": {
  "kernelspec": {
   "display_name": "Python 3",
   "language": "python",
   "name": "python3"
  },
  "language_info": {
   "codemirror_mode": {
    "name": "ipython",
    "version": 2
   },
   "file_extension": ".py",
   "mimetype": "text/x-python",
   "name": "python",
   "nbconvert_exporter": "python",
   "pygments_lexer": "ipython2",
   "version": "2.7.6"
  }
 },
 "nbformat": 4,
 "nbformat_minor": 5
}
