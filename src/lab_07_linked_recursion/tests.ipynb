{
 "cells": [
  {
   "metadata": {},
   "cell_type": "markdown",
   "source": [
    "### **Lab 7: Linked List Recursion Checklist**\n",
    "\n",
    "---\n",
    "\n",
    "### **Setup**\n",
    "\n",
    "-   [ ] **Work in `List_linked.py`**: All of the following methods should be added to your existing `List_linked.py` module.\n",
    "-   [ ] **Add Helper Method**: Add the provided iterative `_append` helper method to your `List` class. It will be useful for the `intersection` and `union` methods.\n",
    "\n",
    "---\n",
    "\n",
    "### **Recursive Method Implementation**\n",
    "\n",
    "1.  **Recursive Linear Search**\n",
    "    -   [ ] **Implement `_linear_search_r`**: Create a new private helper method that performs the same function as `_linear_search` but uses recursion instead of a loop.\n",
    "    -   [ ] **Test `_linear_search_r`**: Since it's a private method, test it indirectly by modifying a public method (like `find` or `remove`) to temporarily use `_linear_search_r` and verifying the results.\n",
    "\n",
    "2.  **Recursive Identity Check**\n",
    "    -   [ ] **Add `is_identical`**: Add the provided iterative version of the `is_identical` method to your `List` class.\n",
    "    -   [ ] **Implement `is_identical_r`**: Write a recursive version of the identity check.\n",
    "        -   *Hint: This will require a private recursive helper function that takes the current nodes of both lists as parameters.*\n",
    "    -   [ ] **Test `is_identical_r`** by comparing various lists (identical lists, lists of different lengths, lists with different values).\n",
    "\n",
    "3.  **Recursive Alternating Split**\n",
    "    -   [ ] **Add `split_alt`**: Add the provided iterative version of the `split_alt` method.\n",
    "    -   [ ] **Implement `split_alt_r`**: Write a recursive version of the alternating split.\n",
    "        -   *Hint: Use a private recursive helper function. It will need to process the source list's nodes one by one and keep track of which target list to append to.*\n",
    "    -   [ ] **Test `split_alt_r`** and verify that `target1` and `target2` contain the correct alternating values.\n",
    "\n",
    "4.  **Recursive Intersection**\n",
    "    -   [ ] **Add `intersection`**: Add the provided iterative version of the `intersection` method.\n",
    "    -   [ ] **Implement `intersection_r`**: Write a recursive version of the intersection logic.\n",
    "        -   *Hint: A private helper function that processes `source1` node-by-node is a good approach. For each node, it checks for the value's existence in `source2` and the target list.*\n",
    "    -   [ ] **Test `intersection_r`** with lists that have common values, no common values, and are empty.\n",
    "\n",
    "5.  **Recursive Union**\n",
    "    -   [ ] **Add `union`**: Add the provided iterative version of the `union` method.\n",
    "    -   [ ] **Implement `union_r`**: Write a recursive version of the union logic.\n",
    "        -   *Hint: A single private helper function can be used. The main `union_r` method can call this helper on `source1` and then again on `source2`.*\n",
    "    -   [ ] **Test `union_r`** to ensure all unique values from both source lists are present in the target list without duplicates.\n",
    "\n",
    "6.  **Recursive Reverse**\n",
    "    -   [ ] **Add `reverse`**: Add the provided iterative version of the `reverse` method.\n",
    "    -   [ ] **Implement `reverse_r`**: Write a recursive version that reverses the list in-place.\n",
    "        -   *Hint: Use a private helper function that takes `previous` and `current` nodes as parameters to rewire the `_next` pointers.*\n",
    "    -   [ ] **Test `reverse_r`** on empty, single-element, and multi-element lists.\n",
    "\n",
    "---\n",
    "\n",
    "### **Final Testing**\n",
    "\n",
    "-   [ ] **Comprehensive Test Suite**: After implementing all recursive methods, run a full suite of tests on your `List_linked.py` module to confirm that both the new recursive methods and the original methods still work as expected."
   ],
   "id": "b0911ccf48fef674"
  }
 ],
 "metadata": {
  "kernelspec": {
   "display_name": "Python 3",
   "language": "python",
   "name": "python3"
  },
  "language_info": {
   "codemirror_mode": {
    "name": "ipython",
    "version": 2
   },
   "file_extension": ".py",
   "mimetype": "text/x-python",
   "name": "python",
   "nbconvert_exporter": "python",
   "pygments_lexer": "ipython2",
   "version": "2.7.6"
  }
 },
 "nbformat": 4,
 "nbformat_minor": 5
}
