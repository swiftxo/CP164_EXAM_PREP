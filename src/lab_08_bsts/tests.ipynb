{
 "cells": [
  {
   "metadata": {},
   "cell_type": "markdown",
   "source": [
    "### **Lab 8: Morse Code and BSTs Checklist**\n",
    "\n",
    "\n",
    "\n",
    "### **Part 1: Data Wrapper Classes**\n",
    "\n",
    "1.  **`ByLetter` Class**\n",
    "    -   [ ] **Complete the `ByLetter` class** in `morse.py`.\n",
    "    -   [ ] Implement the necessary comparison methods (`__eq__`, `__lt__`, `__le__`, etc.) to allow `ByLetter` objects to be compared based on their `letter` attribute.\n",
    "    -   [ ] **Test** that `ByLetter` objects compare correctly.\n",
    "\n",
    "2.  **`ByCode` Class**\n",
    "    -   [ ] **Complete the `ByCode` class** in `morse.py`.\n",
    "    -   [ ] Implement comparison methods to allow `ByCode` objects to be compared alphabetically based on their `code` attribute.\n",
    "    -   [ ] **Test** that `ByCode` objects compare correctly.\n",
    "\n",
    "---\n",
    "\n",
    "### **Part 2: BST Creation and Usage**\n",
    "\n",
    "1.  **BST Population Functions**\n",
    "    -   [ ] **Implement `fill_letter_bst`**: This function should take a data set and populate a Binary Search Tree (BST) with `ByLetter` objects.\n",
    "    -   [ ] **Implement `fill_code_bst`**: This function should take a data set and populate a BST with `ByCode` objects.\n",
    "\n",
    "2.  **Encoding and Decoding Functions**\n",
    "    -   [ ] **Implement `encode_morse(letter_bst, text)`**:\n",
    "        -   The function must take a `letter_bst` (a BST of `ByLetter` objects) and an English string.\n",
    "        -   It should translate the string into Morse code.\n",
    "        -   **Formatting Rules**:\n",
    "            -   Ignore any non-alphabetic characters in the input string.\n",
    "            -   Place a single space between the Morse code for each letter.\n",
    "            -   Start each new word on a new line.\n",
    "    -   [ ] **Implement `decode_morse(code_bst, morse_text)`**:\n",
    "        -   The function must take a `code_bst` (a BST of `ByCode` objects) and a Morse code string.\n",
    "        -   It should translate the Morse code back into an English string.\n",
    "\n",
    "-   [ ] **Testing**: Create a testing script to thoroughly test `encode_morse` and `decode_morse`.\n",
    "\n",
    "---\n",
    "\n",
    "### **Part 3: Analysis and Conceptual Questions**\n",
    "\n",
    "*(These questions are for understanding and do not require code submission)*\n",
    "\n",
    "-   [ ] **Why are two separate trees necessary?**\n",
    "    -   Consider why a single BST cannot be used efficiently for both encoding (Letter → Code) and decoding (Code → Letter).\n",
    "\n",
    "-   [ ] **Tree Analysis (By Letter)**:\n",
    "    -   [ ] **Calculate Tree Heights**: For each of the three `BY_LETTER` data sets in `morse.py`, determine the height of the resulting BST if the data were inserted in that order.\n",
    "    -   [ ] **Draw the Trees**: Sketch the three different BSTs that result from inserting the `BY_LETTER` data in the given orders.\n",
    "    -   [ ] **Identify Efficiency**:\n",
    "        -   Which of the three trees is the most *inefficient* for searching? Why? (Hint: Think about the shape of the tree).\n",
    "        -   Which tree is likely the most *efficient*? How could you theoretically measure or compare the efficiency of these trees?"
   ],
   "id": "b0911ccf48fef674"
  }
 ],
 "metadata": {
  "kernelspec": {
   "display_name": "Python 3",
   "language": "python",
   "name": "python3"
  },
  "language_info": {
   "codemirror_mode": {
    "name": "ipython",
    "version": 2
   },
   "file_extension": ".py",
   "mimetype": "text/x-python",
   "name": "python",
   "nbconvert_exporter": "python",
   "pygments_lexer": "ipython2",
   "version": "2.7.6"
  }
 },
 "nbformat": 4,
 "nbformat_minor": 5
}
